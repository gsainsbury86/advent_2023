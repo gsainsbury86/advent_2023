{
 "cells": [
  {
   "cell_type": "code",
   "execution_count": 13,
   "id": "573a128b-3012-4223-a3d5-f81bf9748c4c",
   "metadata": {
    "tags": []
   },
   "outputs": [],
   "source": [
    "import requests\n",
    "year = 2023\n",
    "\n",
    "url = f\"https://adventofcode.com/{year}/day/{day}/input\"\n",
    "\n",
    "with open('cookie.txt', 'r') as file:\n",
    "    session = file.read()\n",
    "    \n",
    "headers = {'cookie': f\"session={session}\"}\n",
    "\n",
    "with open(f'inputs/day_{day}_input.txt', 'wb') as file:\n",
    "    file.write(requests.get(url, headers=headers).content)\n"
   ]
  },
  {
   "cell_type": "code",
   "execution_count": 14,
   "id": "49dcca97-9dec-49a7-b647-97b06fe53e43",
   "metadata": {
    "tags": []
   },
   "outputs": [
    {
     "name": "stdout",
     "output_type": "stream",
     "text": [
      "['six1mpffbnbnnlxthree', '4eight3one92', '9nine2xnhvjtjlzj48', 'jxrbrt4jmnmlonesznvbjrsn', 'nsvkljgpfn77pvfour5j']\n"
     ]
    }
   ],
   "source": [
    "lines = [x.strip() for x in open(f'inputs/day_{day}_input.txt', 'r')]\n",
    "print(lines[:5])"
   ]
  },
  {
   "cell_type": "code",
   "execution_count": 19,
   "id": "6506da4e-0889-4230-9a6c-c8ebda450f2d",
   "metadata": {
    "tags": []
   },
   "outputs": [
    {
     "name": "stdout",
     "output_type": "stream",
     "text": [
      "55090\n"
     ]
    }
   ],
   "source": [
    "nums = []\n",
    "for line in lines:\n",
    "    \n",
    "    for l in \"abcdefghijlkmnopqrstuvwyxz\":\n",
    "        line = line.replace(l,\"\")\n",
    "        \n",
    "    nums.append(int(f\"{line[0]}{line[-1]}\"))\n",
    "\n",
    "print(sum(nums))"
   ]
  },
  {
   "cell_type": "code",
   "execution_count": 66,
   "id": "ef6d9b8e-e8ab-4325-9420-d0a8c51175ff",
   "metadata": {
    "tags": []
   },
   "outputs": [
    {
     "name": "stdout",
     "output_type": "stream",
     "text": [
      "54845\n"
     ]
    }
   ],
   "source": [
    "nums = []\n",
    "\n",
    "test = [\n",
    "\"two1nine\",\n",
    "\"eightwothree\",\n",
    "\"abcone2threexyz\",\n",
    "\"xtwone3four\",\n",
    "\"4nineeightseven2\",\n",
    "\"zoneight234\",\n",
    "\"7pqrstsixteen\"\n",
    "]\n",
    "\n",
    "numdicts = {        \"one\": 1,\n",
    "        \"two\": 2,\n",
    "        \"three\": 3,\n",
    "        \"four\": 4,\n",
    "        \"five\": 5,\n",
    "        \"six\": 6,\n",
    "        \"seven\": 7,\n",
    "        \"eight\": 8,\n",
    "        \"nine\": 9}\n",
    "\n",
    "for line in lines:\n",
    "        \n",
    "    numstr = \"\"\n",
    "    \n",
    "    first = None\n",
    "    \n",
    "    for l in line:\n",
    "        try:\n",
    "            first = int(l)\n",
    "            break\n",
    "        except:\n",
    "            numstr += l\n",
    "            try:\n",
    "                for num in numdicts.keys():\n",
    "                    if num in numstr:\n",
    "                        first = numdicts[num]\n",
    "                        break\n",
    "                if first:\n",
    "                    break\n",
    "            except:\n",
    "                pass\n",
    "    \n",
    "    numstr = \"\"\n",
    "    last = None\n",
    "\n",
    "    for l in reversed(line):\n",
    "        try:\n",
    "            last = int(l)\n",
    "            break\n",
    "        except:\n",
    "            numstr += l\n",
    "            try:\n",
    "                for num in numdicts.keys():\n",
    "                    if num in \"\".join(reversed(numstr)):\n",
    "                        last = numdicts[num]\n",
    "                        break\n",
    "                if last:\n",
    "                    break\n",
    "            except:\n",
    "                pass\n",
    "    \n",
    "\n",
    "\n",
    "    num = int(f\"{first}{last}\")\n",
    "    \n",
    "    \n",
    "    nums.append(num)\n",
    "\n",
    "print(sum(nums))"
   ]
  }
 ],
 "metadata": {
  "kernelspec": {
   "display_name": "Python 3 (ipykernel)",
   "language": "python",
   "name": "python3"
  },
  "language_info": {
   "codemirror_mode": {
    "name": "ipython",
    "version": 3
   },
   "file_extension": ".py",
   "mimetype": "text/x-python",
   "name": "python",
   "nbconvert_exporter": "python",
   "pygments_lexer": "ipython3",
   "version": "3.11.5"
  }
 },
 "nbformat": 4,
 "nbformat_minor": 5
}
