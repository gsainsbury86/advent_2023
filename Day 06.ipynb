{
 "cells": [
  {
   "cell_type": "code",
   "execution_count": null,
   "id": "initial_id",
   "metadata": {
    "collapsed": true
   },
   "outputs": [],
   "source": []
  },
  {
   "cell_type": "code",
   "execution_count": 1,
   "outputs": [
    {
     "name": "stdout",
     "output_type": "stream",
     "text": [
      "['Time:        34     90     89     86', 'Distance:   204   1713   1210   1780']\n"
     ]
    }
   ],
   "source": [
    "import requests\n",
    "\n",
    "year = 2023\n",
    "day = 6\n",
    "\n",
    "url = f\"https://adventofcode.com/{year}/day/{day}/input\"\n",
    "\n",
    "with open(\"cookie.txt\", \"r\") as file:\n",
    "    session = file.read()\n",
    "\n",
    "headers = {\"cookie\": f\"session={session}\"}\n",
    "\n",
    "with open(f\"inputs/day_{str(day).zfill(2)}_input.txt\", \"wb\") as file:\n",
    "    file.write(requests.get(url, headers=headers).content)\n",
    "\n",
    "lines = [x.strip() for x in open(f\"inputs/day_{str(day).zfill(2)}_input.txt\", \"r\")]\n",
    "print(lines[:5])"
   ],
   "metadata": {
    "collapsed": false,
    "ExecuteTime": {
     "end_time": "2023-12-06T05:21:09.154869100Z",
     "start_time": "2023-12-06T05:21:08.079861900Z"
    }
   },
   "id": "3b0c484985ae6a70"
  },
  {
   "cell_type": "code",
   "execution_count": 17,
   "outputs": [
    {
     "name": "stdout",
     "output_type": "stream",
     "text": [
      "[34, 90, 89, 86]\n",
      "[204, 1713, 1210, 1780]\n",
      "633080\n"
     ]
    }
   ],
   "source": [
    "import math\n",
    "\n",
    "test = \"\"\"Time:      7  15   30\n",
    "Distance:  9  40  200\"\"\".split(\"\\n\")\n",
    "\n",
    "#source = test\n",
    "source = lines\n",
    "\n",
    "times = [int(x) for x in source[0].split()[1:]]\n",
    "dists = [int(x) for x in source[1].split()[1:]]\n",
    "\n",
    "print(times)\n",
    "print(dists)\n",
    "\n",
    "race_ways = []\n",
    "\n",
    "for i in range(0, len(times)):\n",
    "    time = times[i]\n",
    "    dist = dists[i]\n",
    "    \n",
    "    ways = 0\n",
    "    #print(\"Race\")\n",
    "    for j in range(1,time):\n",
    "        #print(f\"hold for {j}, go {(time-j)*j}\")\n",
    "        if (time-j)*j > dist:\n",
    "            #print(\"WAY\")\n",
    "            ways += 1\n",
    "    race_ways.append(ways)\n",
    "    \n",
    "print(math.prod(race_ways))"
   ],
   "metadata": {
    "collapsed": false,
    "ExecuteTime": {
     "end_time": "2023-12-06T05:30:55.172577400Z",
     "start_time": "2023-12-06T05:30:55.143535600Z"
    }
   },
   "id": "8c424f13dc20d626"
  },
  {
   "cell_type": "code",
   "execution_count": 23,
   "outputs": [
    {
     "name": "stdout",
     "output_type": "stream",
     "text": [
      "34908986\n",
      "204171312101780\n",
      "20048741\n"
     ]
    }
   ],
   "source": [
    "import math\n",
    "\n",
    "test = \"\"\"Time:      7  15   30\n",
    "Distance:  9  40  200\"\"\".split(\"\\n\")\n",
    "\n",
    "source = lines\n",
    "#source = test\n",
    "\n",
    "time = int(\"\".join(source[0].split()[1:]))\n",
    "dist = int(\"\".join(source[1].split()[1:]))\n",
    "\n",
    "print(time)\n",
    "print(dist)\n",
    "\n",
    "race_ways = []\n",
    "\n",
    "\n",
    "ways = 0\n",
    "#print(\"Race\")\n",
    "for j in range(1,time):\n",
    "    #print(f\"hold for {j}, go {(time-j)*j}\")\n",
    "    if (time-j)*j > dist:\n",
    "        #print(\"WAY\")\n",
    "        ways += 1\n",
    "race_ways.append(ways)\n",
    "\n",
    "print(math.prod(race_ways))"
   ],
   "metadata": {
    "collapsed": false,
    "ExecuteTime": {
     "end_time": "2023-12-06T05:33:03.550386200Z",
     "start_time": "2023-12-06T05:32:55.592065300Z"
    }
   },
   "id": "a7d19259be469a0e"
  }
 ],
 "metadata": {
  "kernelspec": {
   "display_name": "Python 3",
   "language": "python",
   "name": "python3"
  },
  "language_info": {
   "codemirror_mode": {
    "name": "ipython",
    "version": 2
   },
   "file_extension": ".py",
   "mimetype": "text/x-python",
   "name": "python",
   "nbconvert_exporter": "python",
   "pygments_lexer": "ipython2",
   "version": "2.7.6"
  }
 },
 "nbformat": 4,
 "nbformat_minor": 5
}
