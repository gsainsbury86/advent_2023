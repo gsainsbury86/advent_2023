{
 "cells": [
  {
   "cell_type": "code",
   "execution_count": 75,
   "id": "initial_id",
   "metadata": {
    "collapsed": true,
    "ExecuteTime": {
     "end_time": "2023-12-03T11:27:38.232559500Z",
     "start_time": "2023-12-03T11:27:37.284224Z"
    }
   },
   "outputs": [
    {
     "name": "stdout",
     "output_type": "stream",
     "text": [
      "['Game 1: 1 red, 5 blue, 10 green; 5 green, 6 blue, 12 red; 4 red, 10 blue, 4 green', 'Game 2: 2 green, 1 blue; 1 red, 2 green; 3 red, 1 blue; 2 blue, 1 green, 8 red; 1 green, 10 red; 10 red', 'Game 3: 14 red, 9 green, 5 blue; 2 green, 5 red, 7 blue; 1 blue, 14 green; 6 green, 2 red', 'Game 4: 2 green, 3 blue, 9 red; 1 red, 1 green; 4 red, 4 blue; 1 blue, 19 red; 7 red', 'Game 5: 1 green, 10 blue, 4 red; 15 green, 4 red, 5 blue; 14 blue, 14 green, 2 red; 15 green, 7 blue, 1 red; 2 red, 9 green, 17 blue']\n"
     ]
    }
   ],
   "source": [
    "import requests\n",
    "\n",
    "year = 2023\n",
    "day = 2\n",
    "\n",
    "\n",
    "url = f\"https://adventofcode.com/{year}/day/{day}/input\"\n",
    "\n",
    "with open(\"cookie.txt\", \"r\") as file:\n",
    "    session = file.read()\n",
    "\n",
    "headers = {\"cookie\": f\"session={session}\"}\n",
    "\n",
    "with open(f\"inputs/day_{str(day).zfill(2)}_input.txt\", \"wb\") as file:\n",
    "    file.write(requests.get(url, headers=headers).content)\n",
    "\n",
    "lines = [x.strip() for x in open(f\"inputs/day_{str(day).zfill(2)}_input.txt\", \"r\")]\n",
    "print(lines[:5])"
   ]
  },
  {
   "cell_type": "code",
   "execution_count": 66,
   "outputs": [
    {
     "name": "stdout",
     "output_type": "stream",
     "text": [
      "2720\n"
     ]
    }
   ],
   "source": [
    "test = [\n",
    "    \"Game 1: 3 blue, 4 red; 1 red, 2 green, 6 blue; 2 green\",\n",
    "    \"Game 2: 1 blue, 2 green; 3 green, 4 blue, 1 red; 1 green, 1 blue\",\n",
    "    \"Game 3: 8 green, 6 blue, 20 red; 5 blue, 4 red, 13 green; 5 green, 1 red\",\n",
    "    \"Game 4: 1 green, 3 red, 6 blue; 3 green, 6 red; 3 green, 15 blue, 14 red\",\n",
    "    \"Game 5: 6 red, 1 blue, 3 green; 2 blue, 1 red, 2 green\",\n",
    "]\n",
    "\n",
    "import re\n",
    "\n",
    "pattern = r\"Game (\\d+): (.*)\"\n",
    "\n",
    "games = {}\n",
    "\n",
    "for line in lines:\n",
    "    matches = re.match(pattern, line)\n",
    "    game = int(matches[1])\n",
    "    demos = matches[2].split(\";\")\n",
    "    shown = [x.replace(\",\", \"\").strip().split(\" \") for x in demos]\n",
    "    games[game] = shown\n",
    "\n",
    "sums = 0\n",
    "\n",
    "for game, shown in games.items():\n",
    "    impossible = False\n",
    "\n",
    "    for demo in shown:\n",
    "        for i in range(0, len(demo) // 2):\n",
    "            if (\n",
    "                (int(demo[2 * i]) > 12 and demo[2 * i + 1] == \"red\")\n",
    "                or (int(demo[2 * i]) > 13 and demo[2 * i + 1] == \"green\")\n",
    "                or (int(demo[2 * i]) > 14 and demo[2 * i + 1] == \"blue\")\n",
    "            ):\n",
    "                impossible = True\n",
    "\n",
    "    if not impossible:\n",
    "        sums += game\n",
    "\n",
    "# 3731 too high\n",
    "# 1319 too low\n",
    "\n",
    "print(sums)"
   ],
   "metadata": {
    "collapsed": false,
    "ExecuteTime": {
     "end_time": "2023-12-02T09:59:22.983991500Z",
     "start_time": "2023-12-02T09:59:22.964479500Z"
    }
   },
   "id": "c662e9d3e96ad70b"
  },
  {
   "cell_type": "code",
   "execution_count": 68,
   "outputs": [],
   "source": [
    "# Part 2"
   ],
   "metadata": {
    "collapsed": false,
    "ExecuteTime": {
     "end_time": "2023-12-02T09:59:30.893818300Z",
     "start_time": "2023-12-02T09:59:30.863282600Z"
    }
   },
   "id": "933901d23f8653aa"
  },
  {
   "cell_type": "code",
   "execution_count": 74,
   "outputs": [
    {
     "name": "stdout",
     "output_type": "stream",
     "text": [
      "71535\n"
     ]
    }
   ],
   "source": [
    "test = [\n",
    "    \"Game 1: 3 blue, 4 red; 1 red, 2 green, 6 blue; 2 green\",\n",
    "    \"Game 2: 1 blue, 2 green; 3 green, 4 blue, 1 red; 1 green, 1 blue\",\n",
    "    \"Game 3: 8 green, 6 blue, 20 red; 5 blue, 4 red, 13 green; 5 green, 1 red\",\n",
    "    \"Game 4: 1 green, 3 red, 6 blue; 3 green, 6 red; 3 green, 15 blue, 14 red\",\n",
    "    \"Game 5: 6 red, 1 blue, 3 green; 2 blue, 1 red, 2 green\",\n",
    "]\n",
    "\n",
    "import re\n",
    "\n",
    "pattern = r\"Game (\\d+): (.*)\"\n",
    "\n",
    "games = {}\n",
    "\n",
    "for line in lines:\n",
    "    matches = re.match(pattern, line)\n",
    "    game = int(matches[1])\n",
    "    demos = matches[2].split(\";\")\n",
    "    shown = [x.replace(\",\", \"\").strip().split(\" \") for x in demos]\n",
    "    games[game] = shown\n",
    "\n",
    "sums = 0\n",
    "\n",
    "for game, shown in games.items():\n",
    "    impossible = False\n",
    "\n",
    "    shown_mins = {\"red\": 0, \"green\": 0, \"blue\": 0}\n",
    "    for demo in shown:\n",
    "        for i in range(0, len(demo) // 2):\n",
    "            shown_mins[demo[2 * i + 1]] = max(\n",
    "                shown_mins[demo[2 * i + 1]], int(demo[2 * i])\n",
    "            )\n",
    "\n",
    "    sums += shown_mins[\"red\"] * shown_mins[\"green\"] * shown_mins[\"blue\"]\n",
    "\n",
    "\n",
    "print(sums)"
   ],
   "metadata": {
    "collapsed": false,
    "ExecuteTime": {
     "end_time": "2023-12-02T10:03:51.897133600Z",
     "start_time": "2023-12-02T10:03:51.886639Z"
    }
   },
   "id": "8d27ced6d61078b2"
  }
 ],
 "metadata": {
  "kernelspec": {
   "display_name": "Python 3",
   "language": "python",
   "name": "python3"
  },
  "language_info": {
   "codemirror_mode": {
    "name": "ipython",
    "version": 2
   },
   "file_extension": ".py",
   "mimetype": "text/x-python",
   "name": "python",
   "nbconvert_exporter": "python",
   "pygments_lexer": "ipython2",
   "version": "2.7.6"
  }
 },
 "nbformat": 4,
 "nbformat_minor": 5
}
