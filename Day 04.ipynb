{
 "cells": [
  {
   "cell_type": "code",
   "execution_count": 1,
   "id": "initial_id",
   "metadata": {
    "ExecuteTime": {
     "end_time": "2023-12-03T10:11:41.520824300Z",
     "start_time": "2023-12-03T10:11:40.476436700Z"
    },
    "tags": []
   },
   "outputs": [
    {
     "name": "stdout",
     "output_type": "stream",
     "text": [
      "['Card   1: 24 76 32 40 51 61 89  6 30 60 | 30 69 24 86  6  8 92 61 51 88 63 67 32 62 15 49 22 77 40 27 89 60 76 58 79', 'Card   2: 97  3 51 52 79  8 89 76 10 59 | 59 48 52 76 97 16 92 81 62 25 89 51 54  3 79 18 94 78  8 32 99 66 10 70 38', 'Card   3:  8 67 56 82 96  2 21 47 41 38 |  6 83 17 36  8 21 82 27 68 67  7 38 56 42 66  3 47 87 41 71 88 96  2 98 72', 'Card   4: 41 83 77 61 91 13 84 63 81 79 | 29 28 85 84 19 83 37 55  7 97  8 11 12 50 72 42 48 92 30  2 27 18 38 89 59', 'Card   5: 31 96 75 87 56  8 79 80 49 89 | 32 75 80 56 77 48 59 89  6 67 87 33 14 44 50 49 28 82 79 40  9 31 99  8 96']\n"
     ]
    }
   ],
   "source": [
    "import requests\n",
    "\n",
    "year = 2023\n",
    "day = 4\n",
    "\n",
    "url = f\"https://adventofcode.com/{year}/day/{day}/input\"\n",
    "\n",
    "with open(\"cookie.txt\", \"r\") as file:\n",
    "    session = file.read()\n",
    "\n",
    "headers = {\"cookie\": f\"session={session}\"}\n",
    "\n",
    "with open(f\"inputs/day_{str(day).zfill(2)}_input.txt\", \"wb\") as file:\n",
    "    file.write(requests.get(url, headers=headers).content)\n",
    "\n",
    "lines = [x.strip() for x in open(f\"inputs/day_{str(day).zfill(2)}_input.txt\", \"r\")]\n",
    "print(lines[:5])"
   ]
  },
  {
   "cell_type": "code",
   "execution_count": 61,
   "id": "f8aed333c333d56f",
   "metadata": {
    "collapsed": false,
    "jupyter": {
     "outputs_hidden": false
    }
   },
   "outputs": [
    {
     "name": "stdout",
     "output_type": "stream",
     "text": [
      "22193\n"
     ]
    }
   ],
   "source": [
    "import re\n",
    "\n",
    "test = \"\"\"Card 1: 41 48 83 86 17 | 83 86  6 31 17  9 48 53\n",
    "Card 2: 13 32 20 16 61 | 61 30 68 82 17 32 24 19\n",
    "Card 3:  1 21 53 59 44 | 69 82 63 72 16 21 14  1\n",
    "Card 4: 41 92 73 84 69 | 59 84 76 51 58  5 54 83\n",
    "Card 5: 87 83 26 28 32 | 88 30 70 12 93 22 82 36\n",
    "Card 6: 31 18 13 56 72 | 74 77 10 23 35 67 36 11\"\"\".split(\"\\n\")\n",
    "\n",
    "score = 0\n",
    "\n",
    "for line in lines:\n",
    "    matches =    line[line.find(\":\")+1:]\n",
    "    \n",
    "    numbers = matches.split(\"|\")\n",
    "    need = numbers[0].strip().split()\n",
    "    have = numbers[1].strip().split()\n",
    "    \n",
    "    \n",
    "    count = 0\n",
    "    for h in have:\n",
    "        if h in need:\n",
    "            count += 1\n",
    "    if count > 0 :\n",
    "        score += (pow(2,count-1))\n",
    "\n",
    "print(score)\n",
    "\n",
    "# 1177 wrong\n",
    "# 883 wrong\n",
    "# 807 wrong"
   ]
  },
  {
   "cell_type": "code",
   "execution_count": 120,
   "id": "c78330ec-de3f-4e3b-a95b-62533cc2ae7d",
   "metadata": {
    "tags": []
   },
   "outputs": [
    {
     "name": "stdout",
     "output_type": "stream",
     "text": [
      "5625994\n"
     ]
    }
   ],
   "source": [
    "import re\n",
    "\n",
    "test = \"\"\"Card 1: 41 48 83 86 17 | 83 86  6 31 17  9 48 53\n",
    "Card 2: 13 32 20 16 61 | 61 30 68 82 17 32 24 19\n",
    "Card 3:  1 21 53 59 44 | 69 82 63 72 16 21 14  1\n",
    "Card 4: 41 92 73 84 69 | 59 84 76 51 58  5 54 83\n",
    "Card 5: 87 83 26 28 32 | 88 30 70 12 93 22 82 36\n",
    "Card 6: 31 18 13 56 72 | 74 77 10 23 35 67 36 11\"\"\".split(\"\\n\")\n",
    "\n",
    "score = 0\n",
    "\n",
    "card_counts = {i+1:1 for i in range (0,len(lines))}\n",
    "\n",
    "for i,line in enumerate(lines):\n",
    "    matches =    line[line.find(\":\")+1:]\n",
    "    numbers = matches.split(\"|\")\n",
    "    need = numbers[0].strip().split()\n",
    "    have = numbers[1].strip().split()\n",
    "\n",
    "    count = 0\n",
    "    \n",
    "    for h in have:\n",
    "        if h in need:\n",
    "            count+= 1\n",
    "            \n",
    "    new_cards[i+1] = tuple([x for x in range(i+2, i+2+count)])\n",
    "\n",
    "for i in range(1,len(lines)):\n",
    "    for card in new_cards[i]:\n",
    "        card_counts[card] += card_counts[i]\n",
    "    \n",
    "\n",
    "print(sum(card_counts.values()))\n",
    "\n",
    "counts_per_card = {}\n",
    "\n",
    "# 346 wrong\n",
    "# 443 wrong"
   ]
  }
 ],
 "metadata": {
  "kernelspec": {
   "display_name": "Python 3 (ipykernel)",
   "language": "python",
   "name": "python3"
  },
  "language_info": {
   "codemirror_mode": {
    "name": "ipython",
    "version": 3
   },
   "file_extension": ".py",
   "mimetype": "text/x-python",
   "name": "python",
   "nbconvert_exporter": "python",
   "pygments_lexer": "ipython3",
   "version": "3.11.5"
  }
 },
 "nbformat": 4,
 "nbformat_minor": 5
}
