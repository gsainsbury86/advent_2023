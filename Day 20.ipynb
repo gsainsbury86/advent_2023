{
 "cells": [
  {
   "cell_type": "code",
   "execution_count": 2,
   "id": "initial_id",
   "metadata": {
    "collapsed": true,
    "ExecuteTime": {
     "end_time": "2024-01-17T00:39:27.862585500Z",
     "start_time": "2024-01-17T00:39:26.540284800Z"
    }
   },
   "outputs": [
    {
     "name": "stdout",
     "output_type": "stream",
     "text": [
      "['%rp -> gq, sd', '&kh -> cs', '%jz -> pl, jb', '%dx -> tx', '%dh -> bm, sd']\n"
     ]
    }
   ],
   "source": [
    "import requests\n",
    "\n",
    "year = 2023\n",
    "day = 20\n",
    "\n",
    "url = f\"https://adventofcode.com/{year}/day/{day}/input\"\n",
    "\n",
    "with open(\"cookie.txt\", \"r\") as file:\n",
    "    session = file.read()\n",
    "\n",
    "headers = {\"cookie\": f\"session={session}\"}\n",
    "\n",
    "with open(f\"inputs/day_{str(day).zfill(2)}_input.txt\", \"wb\") as file:\n",
    "    file.write(requests.get(url, headers=headers).content)\n",
    "\n",
    "lines = [x.strip() for x in open(f\"inputs/day_{str(day).zfill(2)}_input.txt\", \"r\")]\n",
    "print(lines[:5])"
   ]
  },
  {
   "cell_type": "code",
   "execution_count": 3,
   "outputs": [
    {
     "name": "stdout",
     "output_type": "stream",
     "text": [
      "{'rp': {'type': '%', 'destinations': ['gq', 'sd'], 'state': 0}, 'kh': {'type': '&', 'destinations': ['cs'], 'memory': defaultdict(<class 'int'>, {})}, 'jz': {'type': '%', 'destinations': ['pl', 'jb'], 'state': 0}, 'dx': {'type': '%', 'destinations': ['tx'], 'state': 0}, 'dh': {'type': '%', 'destinations': ['bm', 'sd'], 'state': 0}, 'zv': {'type': '&', 'destinations': ['ns', 'dx', 'hl', 'hn', 'fm'], 'memory': defaultdict(<class 'int'>, {})}, 'xb': {'type': '%', 'destinations': ['ds', 'sk'], 'state': 0}, 'hv': {'type': '%', 'destinations': ['sk', 'kr'], 'state': 0}, 'db': {'type': '%', 'destinations': ['zv', 'zz'], 'state': 0}, 'sk': {'type': '&', 'destinations': ['rg', 'hh', 'hv', 'kr', 'kh', 'zl', 'zn'], 'memory': defaultdict(<class 'int'>, {})}, 'tc': {'type': '%', 'destinations': ['jz'], 'state': 0}, 'dj': {'type': '%', 'destinations': ['ts', 'pl'], 'state': 0}, 'jk': {'type': '%', 'destinations': ['sd', 'vh'], 'state': 0}, 'fm': {'type': '%', 'destinations': ['dx', 'zv'], 'state': 0}, 'dp': {'type': '%', 'destinations': ['sd', 'cc'], 'state': 0}, 'vh': {'type': '%', 'destinations': ['sd'], 'state': 0}, 'lz': {'type': '&', 'destinations': ['cs'], 'memory': defaultdict(<class 'int'>, {})}, 'kr': {'type': '%', 'destinations': ['rg'], 'state': 0}, 'jb': {'type': '%', 'destinations': ['bf', 'pl'], 'state': 0}, 'kz': {'type': '%', 'destinations': ['sk'], 'state': 0}, 'ts': {'type': '%', 'destinations': ['pl', 'bs'], 'state': 0}, 'gr': {'type': '%', 'destinations': ['ns', 'zv'], 'state': 0}, 'kc': {'type': '%', 'destinations': ['sd', 'kf'], 'state': 0}, 'jd': {'type': '%', 'destinations': ['zv'], 'state': 0}, 'bs': {'type': '%', 'destinations': ['vg'], 'state': 0}, 'zk': {'type': '%', 'destinations': ['rp'], 'state': 0}, 'vf': {'type': '%', 'destinations': ['zk'], 'state': 0}, 'mm': {'type': '%', 'destinations': ['ms', 'sk'], 'state': 0}, 'qc': {'type': '%', 'destinations': ['pl', 'dj'], 'state': 0}, 'fk': {'type': '%', 'destinations': ['qc'], 'state': 0}, 'bm': {'type': '%', 'destinations': ['vf', 'sd'], 'state': 0}, 'ds': {'type': '%', 'destinations': ['kz', 'sk'], 'state': 0}, 'sn': {'type': '%', 'destinations': ['zv', 'jd'], 'state': 0}, 'zn': {'type': '%', 'destinations': ['mm'], 'state': 0}, 'ct': {'type': '%', 'destinations': ['fk'], 'state': 0}, 'np': {'type': '%', 'destinations': ['sk', 'xb'], 'state': 0}, 'tg': {'type': '&', 'destinations': ['cs'], 'memory': defaultdict(<class 'int'>, {})}, 'tx': {'type': '%', 'destinations': ['cm', 'zv'], 'state': 0}, 'zl': {'type': '%', 'destinations': ['hh'], 'state': 0}, 'zz': {'type': '%', 'destinations': ['px', 'zv'], 'state': 0}, 'ms': {'type': '%', 'destinations': ['zl', 'sk'], 'state': 0}, 'ns': {'type': '%', 'destinations': ['db'], 'state': 0}, 'px': {'type': '%', 'destinations': ['zv', 'sn'], 'state': 0}, 'roadcaster': {'type': 'b', 'destinations': ['fm', 'hv', 'kc', 'bv']}, 'hn': {'type': '&', 'destinations': ['cs'], 'memory': defaultdict(<class 'int'>, {})}, 'hh': {'type': '%', 'destinations': ['np'], 'state': 0}, 'kf': {'type': '%', 'destinations': ['dh'], 'state': 0}, 'vg': {'type': '%', 'destinations': ['pl', 'tc'], 'state': 0}, 'bv': {'type': '%', 'destinations': ['ct', 'pl'], 'state': 0}, 'pl': {'type': '&', 'destinations': ['bv', 'fk', 'ct', 'bs', 'tg', 'tc'], 'memory': defaultdict(<class 'int'>, {})}, 'cm': {'type': '%', 'destinations': ['zv', 'hl'], 'state': 0}, 'cc': {'type': '%', 'destinations': ['sd', 'jk'], 'state': 0}, 'bf': {'type': '%', 'destinations': ['pl'], 'state': 0}, 'hl': {'type': '%', 'destinations': ['gr'], 'state': 0}, 'cs': {'type': '&', 'destinations': ['rx'], 'memory': defaultdict(<class 'int'>, {})}, 'gq': {'type': '%', 'destinations': ['dp'], 'state': 0}, 'rg': {'type': '%', 'destinations': ['zn'], 'state': 0}, 'sd': {'type': '&', 'destinations': ['zk', 'kf', 'gq', 'lz', 'kc', 'vf'], 'memory': defaultdict(<class 'int'>, {})}}\n",
      "703315117\n",
      "{'tg': 3769, 'kh': 3889, 'lz': 3917, 'hn': 4013}\n",
      "230402300925361\n"
     ]
    },
    {
     "ename": "RuntimeError",
     "evalue": "No active exception to reraise",
     "output_type": "error",
     "traceback": [
      "\u001B[1;31m---------------------------------------------------------------------------\u001B[0m",
      "\u001B[1;31mRuntimeError\u001B[0m                              Traceback (most recent call last)",
      "Cell \u001B[1;32mIn[3], line 110\u001B[0m\n\u001B[0;32m    107\u001B[0m found \u001B[38;5;241m=\u001B[39m {}\n\u001B[0;32m    109\u001B[0m \u001B[38;5;28;01mfor\u001B[39;00m i \u001B[38;5;129;01min\u001B[39;00m \u001B[38;5;28mrange\u001B[39m(\u001B[38;5;241m0\u001B[39m, \u001B[38;5;241m10000\u001B[39m):\n\u001B[1;32m--> 110\u001B[0m     \u001B[43mpress_button\u001B[49m\u001B[43m(\u001B[49m\u001B[43m)\u001B[49m\n\u001B[0;32m    111\u001B[0m     Q\u001B[38;5;241m.\u001B[39mappend([\u001B[38;5;124m\"\u001B[39m\u001B[38;5;124mroadcaster\u001B[39m\u001B[38;5;124m\"\u001B[39m, \u001B[38;5;241m0\u001B[39m, \u001B[38;5;124m\"\u001B[39m\u001B[38;5;124mbutton\u001B[39m\u001B[38;5;124m\"\u001B[39m])\n\u001B[0;32m    112\u001B[0m     \u001B[38;5;28;01mif\u001B[39;00m i \u001B[38;5;241m==\u001B[39m \u001B[38;5;241m999\u001B[39m:\n",
      "Cell \u001B[1;32mIn[3], line 102\u001B[0m, in \u001B[0;36mpress_button\u001B[1;34m()\u001B[0m\n\u001B[0;32m    100\u001B[0m \u001B[38;5;28;01mwhile\u001B[39;00m Q:\n\u001B[0;32m    101\u001B[0m     params \u001B[38;5;241m=\u001B[39m Q\u001B[38;5;241m.\u001B[39mpopleft()\n\u001B[1;32m--> 102\u001B[0m     \u001B[43msend_pulse\u001B[49m\u001B[43m(\u001B[49m\u001B[43mparams\u001B[49m\u001B[43m)\u001B[49m\n",
      "Cell \u001B[1;32mIn[3], line 69\u001B[0m, in \u001B[0;36msend_pulse\u001B[1;34m(params)\u001B[0m\n\u001B[0;32m     67\u001B[0m             lcm_run \u001B[38;5;241m=\u001B[39m lcm(lcm_run, f)\n\u001B[0;32m     68\u001B[0m         \u001B[38;5;28mprint\u001B[39m(lcm_run)\n\u001B[1;32m---> 69\u001B[0m         \u001B[38;5;28;01mraise\u001B[39;00m\n\u001B[0;32m     71\u001B[0m pulse_counts[pulse] \u001B[38;5;241m+\u001B[39m\u001B[38;5;241m=\u001B[39m \u001B[38;5;241m1\u001B[39m\n\u001B[0;32m     73\u001B[0m \u001B[38;5;28;01mif\u001B[39;00m module_name \u001B[38;5;129;01mnot\u001B[39;00m \u001B[38;5;129;01min\u001B[39;00m modules:\n",
      "\u001B[1;31mRuntimeError\u001B[0m: No active exception to reraise"
     ]
    }
   ],
   "source": [
    "from collections import defaultdict, deque\n",
    "\n",
    "test = \"\"\"broadcaster -> a, b, c\n",
    "%a -> b\n",
    "%b -> c\n",
    "%c -> inv\n",
    "&inv -> a\"\"\".split(\n",
    "    \"\\n\"\n",
    ")\n",
    "\n",
    "test2 = \"\"\"broadcaster -> a\n",
    "%a -> inv, con\n",
    "&inv -> b\n",
    "%b -> con\n",
    "&con -> output\"\"\".split(\n",
    "    \"\\n\"\n",
    ")\n",
    "\n",
    "source = lines\n",
    "\n",
    "modules = {}\n",
    "\n",
    "\n",
    "def lcm(x, y):\n",
    "    from math import gcd  # or can import gcd from `math` in Python 3\n",
    "\n",
    "    return x * y // gcd(x, y)\n",
    "\n",
    "\n",
    "for line in source:\n",
    "    module_type_and_name, destinations = line.split(\" -> \")\n",
    "    module_type = module_type_and_name[0]\n",
    "    module = module_type_and_name[1:]\n",
    "    module_dict = {\"type\": module_type, \"destinations\": destinations.split(\", \")}\n",
    "    if module_type == \"%\":\n",
    "        module_dict[\"state\"] = 0\n",
    "    if module_type == \"&\":\n",
    "        module_dict[\"memory\"] = defaultdict(int)\n",
    "    modules[module] = module_dict\n",
    "\n",
    "print(modules)\n",
    "\n",
    "# second pass to update & inputs.\n",
    "for line in source:\n",
    "    module_type_and_name, destinations = line.split(\" -> \")\n",
    "    module_type = module_type_and_name[0]\n",
    "    module = module_type_and_name[1:]\n",
    "    destinations = destinations.split(\", \")\n",
    "\n",
    "    for destination in destinations:\n",
    "        if destination not in modules:\n",
    "            continue\n",
    "        if modules[destination][\"type\"] == \"&\":\n",
    "            modules[destination][\"memory\"][module] = 0\n",
    "\n",
    "\n",
    "def send_pulse(params):\n",
    "    module_name, pulse, from_node = params\n",
    "\n",
    "    if module_name in [\"kh\", \"lz\", \"tg\", \"hn\"] and pulse == 0:\n",
    "        found[module_name] = i + 1\n",
    "        if len(found) == 4:\n",
    "            print(found)\n",
    "\n",
    "            lcm_run = 1\n",
    "            for f in found.values():\n",
    "                lcm_run = lcm(lcm_run, f)\n",
    "            print(lcm_run)\n",
    "            raise\n",
    "\n",
    "    pulse_counts[pulse] += 1\n",
    "\n",
    "    if module_name not in modules:\n",
    "        return\n",
    "    module = modules[module_name]\n",
    "    if module[\"type\"] == \"b\":\n",
    "        for destination in module[\"destinations\"]:\n",
    "            Q.append([destination, pulse, module_name])\n",
    "    if module[\"type\"] == \"%\":\n",
    "        if pulse == 0:\n",
    "            module[\"state\"] = (module[\"state\"] + 1) % 2\n",
    "            for destination in module[\"destinations\"]:\n",
    "                Q.append([destination, module[\"state\"], module_name])\n",
    "    if module[\"type\"] == \"&\":\n",
    "        module[\"memory\"][from_node] = pulse\n",
    "        for destination in module[\"destinations\"]:\n",
    "            if all([m == 1 for n, m in module[\"memory\"].items()]):\n",
    "                Q.append([destination, 0, module_name])\n",
    "            else:\n",
    "                Q.append([destination, 1, module_name])\n",
    "\n",
    "\n",
    "Q = deque([(\"roadcaster\", 0, \"button\")])\n",
    "\n",
    "pulse_counts = {0: 0, 1: 0}\n",
    "\n",
    "\n",
    "def press_button():\n",
    "    # bit of a hack to drop the b here\n",
    "    while Q:\n",
    "        params = Q.popleft()\n",
    "        send_pulse(params)\n",
    "\n",
    "\n",
    "from tqdm import tqdm\n",
    "\n",
    "found = {}\n",
    "\n",
    "for i in range(0, 10000):\n",
    "    press_button()\n",
    "    Q.append([\"roadcaster\", 0, \"button\"])\n",
    "    if i == 999:\n",
    "        print(pulse_counts[0] * pulse_counts[1])\n",
    "\n",
    "# only cs sends to rx\n",
    "# kh, lz, tg, hn send to cs\n",
    "# 599390055792 too low\n",
    "# [3769, 3889, 3917, 4013]\n",
    "# 230402300925361"
   ],
   "metadata": {
    "collapsed": false,
    "ExecuteTime": {
     "end_time": "2024-01-17T00:39:28.139039200Z",
     "start_time": "2024-01-17T00:39:27.863581300Z"
    }
   },
   "id": "70ff824365205155"
  }
 ],
 "metadata": {
  "kernelspec": {
   "display_name": "Python 3",
   "language": "python",
   "name": "python3"
  },
  "language_info": {
   "codemirror_mode": {
    "name": "ipython",
    "version": 2
   },
   "file_extension": ".py",
   "mimetype": "text/x-python",
   "name": "python",
   "nbconvert_exporter": "python",
   "pygments_lexer": "ipython2",
   "version": "2.7.6"
  }
 },
 "nbformat": 4,
 "nbformat_minor": 5
}
