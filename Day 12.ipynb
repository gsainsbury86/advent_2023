{
 "cells": [
  {
   "cell_type": "code",
   "execution_count": 1,
   "id": "initial_id",
   "metadata": {
    "ExecuteTime": {
     "end_time": "2023-12-11T05:00:19.161497300Z",
     "start_time": "2023-12-11T05:00:18.043953400Z"
    },
    "tags": []
   },
   "outputs": [
    {
     "name": "stdout",
     "output_type": "stream",
     "text": [
      "['.???#??????#. 6,1', '???##???##?#??#?#..# 1,14,1', '#??????#????#?###?# 3,1,10,1', '.???????#????. 1,2,1,2', '?##?.??.???.. 3,2,2']\n"
     ]
    }
   ],
   "source": [
    "import requests\n",
    "\n",
    "year = 2023\n",
    "day = 12\n",
    "\n",
    "url = f\"https://adventofcode.com/{year}/day/{day}/input\"\n",
    "\n",
    "with open(\"cookie.txt\", \"r\") as file:\n",
    "    session = file.read()\n",
    "\n",
    "headers = {\"cookie\": f\"session={session}\"}\n",
    "\n",
    "with open(f\"inputs/day_{str(day).zfill(2)}_input.txt\", \"wb\") as file:\n",
    "    file.write(requests.get(url, headers=headers).content)\n",
    "\n",
    "lines = [x.strip() for x in open(f\"inputs/day_{str(day).zfill(2)}_input.txt\", \"r\")]\n",
    "print(lines[:5])"
   ]
  },
  {
   "cell_type": "code",
   "execution_count": 124,
   "id": "85cf93d8-1429-45e3-bd0a-eddaff5fc14b",
   "metadata": {
    "tags": []
   },
   "outputs": [
    {
     "name": "stderr",
     "output_type": "stream",
     "text": [
      "100%|███████████████████████████████████████████████████████████████████████████████████████████████████████████████████████████████████████████████████████████████████████████████████████████████████████| 1000/1000 [00:24<00:00, 40.54it/s]"
     ]
    },
    {
     "name": "stdout",
     "output_type": "stream",
     "text": [
      "[4, 2, 2, 13, 4, 1, 12, 1, 16, 19, 3, 6, 6, 1, 2, 10, 4, 2, 22, 11, 2, 14, 2, 6, 2, 33, 12, 6, 12, 4, 11, 9, 8, 3, 3, 3, 4, 1, 1, 1, 1, 1, 15, 11, 3, 2, 7, 2, 3, 6, 2, 10, 6, 1, 1, 2, 2, 2, 2, 26, 3, 2, 3, 2, 7, 2, 8, 84, 3, 3, 6, 165, 10, 2, 4, 6, 8, 9, 34, 4, 25, 5, 1, 7, 1, 6, 2, 2, 4, 16, 2, 9, 28, 1, 4, 15, 1, 8, 2, 3, 14, 1, 32, 2, 5, 4, 2, 2, 6, 3, 6, 12, 46, 6, 6, 20, 22, 58, 21, 4, 20, 1, 4, 1, 4, 6, 2, 6, 3, 3, 1, 4, 1, 1, 9, 2, 7, 6, 7, 24, 8, 1, 6, 2, 12, 1, 2, 2, 1, 4, 2, 4, 11, 10, 9, 9, 17, 10, 7, 46, 3, 3, 4, 1, 95, 2, 10, 1, 10, 8, 2, 4, 27, 6, 3, 1, 2, 3, 2, 1, 10, 13, 1, 1, 20, 7, 3, 1, 33, 10, 1, 2, 5, 10, 46, 11, 9, 19, 5, 2, 14, 4, 2, 7, 2, 3, 6, 2, 10, 8, 2, 3, 7, 3, 2, 6, 28, 10, 2, 1, 4, 3, 3, 22, 6, 13, 2, 56, 9, 2, 6, 1, 1, 5, 3, 15, 3, 21, 1, 1, 3, 1, 1, 2, 1, 2, 3, 17, 1, 2, 6, 3, 2, 4, 3, 2, 4, 1, 1, 1, 27, 2, 4, 1, 6, 4, 4, 3, 1, 10, 4, 6, 3, 1, 13, 2, 2, 3, 47, 21, 1, 3, 18, 6, 21, 3, 11, 1, 40, 1, 6, 3, 6, 4, 2, 5, 4, 13, 8, 3, 6, 6, 2, 1, 3, 4, 10, 3, 1, 11, 12, 5, 1, 6, 9, 1, 3, 12, 3, 6, 3, 2, 11, 1, 16, 12, 1, 2, 37, 20, 2, 7, 7, 9, 10, 6, 8, 29, 3, 6, 4, 3, 2, 4, 1, 2, 10, 2, 3, 3, 4, 3, 2, 2, 4, 4, 3, 18, 2, 2, 9, 1, 9, 6, 1, 3, 4, 2, 2, 1, 8, 1, 1, 1, 4, 10, 2, 2, 4, 16, 4, 2, 1, 4, 1, 1, 4, 5, 20, 10, 3, 4, 1, 27, 2, 7, 2, 3, 70, 2, 2, 6, 2, 6, 1, 15, 1, 6, 1, 3, 6, 4, 12, 2, 2, 12, 13, 2, 7, 2, 4, 5, 3, 19, 6, 3, 2, 21, 7, 6, 1, 1, 6, 6, 7, 2, 2, 4, 2, 3, 3, 6, 2, 3, 9, 1, 13, 5, 2, 7, 4, 4, 21, 4, 2, 2, 2, 13, 1, 4, 4, 3, 3, 3, 26, 2, 1, 6, 6, 23, 4, 5, 4, 1, 1, 2, 7, 1, 21, 3, 2, 26, 2, 3, 2, 5, 37, 2, 2, 7, 3, 2, 4, 14, 4, 4, 4, 3, 2, 13, 9, 8, 5, 3, 5, 4, 4, 7, 39, 2, 7, 24, 3, 17, 2, 21, 13, 1, 1, 19, 2, 15, 4, 3, 6, 3, 3, 13, 7, 1, 5, 2, 10, 10, 1, 5, 12, 2, 17, 11, 1, 3, 2, 4, 23, 3, 2, 9, 9, 3, 4, 1, 4, 9, 8, 2, 8, 2, 9, 5, 14, 10, 4, 10, 11, 16, 18, 26, 1, 3, 8, 4, 3, 14, 3, 2, 3, 4, 12, 5, 23, 8, 8, 13, 2, 8, 2, 4, 20, 7, 4, 19, 6, 1, 6, 2, 1, 9, 8, 4, 3, 8, 2, 3, 8, 3, 20, 7, 3, 9, 2, 1, 10, 8, 1, 3, 1, 1, 1, 2, 4, 16, 16, 4, 6, 3, 1, 3, 2, 1, 6, 3, 3, 2, 4, 15, 20, 4, 3, 12, 2, 2, 11, 18, 13, 19, 12, 22, 24, 3, 24, 1, 2, 5, 1, 10, 19, 3, 15, 6, 5, 27, 8, 2, 6, 20, 5, 4, 1, 7, 21, 2, 12, 1, 3, 3, 1, 3, 2, 3, 2, 7, 1, 1, 8, 2, 4, 1, 6, 6, 108, 1, 1, 1, 3, 2, 4, 3, 8, 4, 35, 4, 6, 4, 6, 1, 3, 6, 5, 9, 10, 4, 1, 1, 2, 9, 6, 3, 4, 4, 3, 2, 2, 46, 2, 6, 2, 6, 2, 10, 4, 2, 4, 1, 35, 36, 1, 7, 16, 1, 1, 4, 5, 2, 6, 1, 3, 19, 2, 2, 3, 3, 15, 2, 2, 5, 8, 11, 6, 2, 2, 27, 7, 8, 2, 42, 2, 4, 20, 2, 3, 6, 2, 4, 7, 6, 3, 4, 37, 4, 8, 1, 2, 2, 4, 3, 1, 3, 2, 1, 10, 2, 1, 6, 28, 3, 4, 1, 1, 2, 14, 2, 3, 10, 12, 13, 2, 4, 4, 11, 1, 2, 9, 3, 2, 2, 8, 9, 2, 1, 4, 1, 4, 32, 39, 35, 12, 10, 4, 1, 1, 1, 2, 2, 37, 16, 15, 1, 2, 3, 1, 2, 6, 1, 12, 2, 13, 1, 20, 12, 7, 4, 4, 3, 3, 2, 30, 6, 1, 4, 2, 5, 6, 7, 4, 2, 4, 6, 16, 4, 14, 2, 6, 3, 3, 3, 13, 7, 7, 7, 2, 1, 2, 6, 3, 3, 7, 6, 4, 3, 2, 7, 20, 2, 6, 2, 5, 5, 18, 4, 16, 7, 3, 16, 6, 5, 8, 30, 1, 2, 4, 6, 6, 46, 12, 16, 1, 7, 2, 33, 2, 8, 24, 1, 5, 6, 1, 6, 4, 40, 10, 1, 9, 1, 3, 2, 31, 5, 1, 6, 1, 11, 60, 7, 15, 2, 8, 10, 2, 2, 3, 3, 4, 114, 3, 4, 3, 8, 1, 2, 5, 8, 1, 17, 11, 1, 19, 5, 1, 2, 24, 36, 2, 3, 9, 6, 2, 6, 13, 2, 2, 12, 3, 5, 3, 21, 21, 3, 2, 4, 6, 4, 4, 2, 3, 1, 5, 4, 7, 19]\n",
      "7599\n"
     ]
    },
    {
     "name": "stderr",
     "output_type": "stream",
     "text": [
      "\n"
     ]
    }
   ],
   "source": [
    "import re\n",
    "\n",
    "test = \"\"\"???.### 1,1,3\n",
    ".??..??...?##. 1,1,3\n",
    "?#?#?#?#?#?#?#? 1,3,1,6\n",
    "????.#...#... 4,1,1\n",
    "????.######..#####. 1,6,5\n",
    "?###???????? 3,2,1\"\"\".split(\"\\n\")\n",
    "\n",
    "source = lines\n",
    "\n",
    "#print(test)\n",
    "\n",
    "UNK = '?'\n",
    "DMG = '#'\n",
    "OPR = '.'\n",
    "\n",
    "def valid(springs, counts):\n",
    "    collapsed_string = re.sub(r'\\.+', '.', springs)\n",
    "    act_counts = [len(x) for x in collapsed_string.split('.') if not x == '']\n",
    "    if act_counts == counts:\n",
    "#        print(springs, counts)\n",
    "        return True\n",
    "    else:\n",
    "        return False\n",
    "    \n",
    "    \n",
    "def binary(num, length=32):\n",
    "    return format(num, '#0{}b'.format(length + 2))\n",
    "    \n",
    "from tqdm import tqdm\n",
    "valid_counts_arr = []\n",
    "for row in tqdm(source):\n",
    "    springs, counts  = row.split()\n",
    "    counts = [int(x) for x in counts.split(\",\")]\n",
    "    \n",
    "    num_unk = springs.count(\"?\")\n",
    "    num_perms = 2**num_unk\n",
    "    \n",
    "    # print(num_unk)\n",
    "    # print(num_perms)\n",
    "    \n",
    "    valid_counts = 0\n",
    "    for i in range(0, num_perms):\n",
    "        new_springs = springs\n",
    "        bin_i = list(reversed(bin(i)[2:]))\n",
    "#        print(bin_i)\n",
    "        for j in range(0, num_unk):\n",
    "#            print(list(reversed(binary(i)))[j])\n",
    "#            print(len(bin_i))\n",
    "            if j < len(bin_i) and bin_i[j] == '1':\n",
    "                new_springs = new_springs.replace(\"?\",\"#\",1)\n",
    "            else:\n",
    "                new_springs = new_springs.replace(\"?\",\".\",1)\n",
    "\n",
    "#        print(springs, new_springs, i,)\n",
    "        \n",
    "    \n",
    "        if valid(new_springs, counts):\n",
    "            valid_counts += 1\n",
    "            \n",
    "    valid_counts_arr.append(valid_counts)\n",
    "    \n",
    "print(valid_counts_arr)\n",
    "print(sum(valid_counts_arr))\n"
   ]
  },
  {
   "cell_type": "code",
   "execution_count": 136,
   "id": "34cdf8af-cc85-49df-98f1-6d90f26857c0",
   "metadata": {
    "tags": []
   },
   "outputs": [
    {
     "name": "stderr",
     "output_type": "stream",
     "text": [
      "100%|███████████████████████████████████████████████████████████████████████████████████████████████████████████████████████████████████████████████████████████████████████████████████████████████████████████| 6/6 [00:00<00:00, 1600.37it/s]"
     ]
    },
    {
     "name": "stdout",
     "output_type": "stream",
     "text": [
      "[1, 4, 1, 1, 4, 10]\n",
      "21\n"
     ]
    },
    {
     "name": "stderr",
     "output_type": "stream",
     "text": [
      "\n"
     ]
    }
   ],
   "source": []
  },
  {
   "cell_type": "code",
   "execution_count": 164,
   "id": "3507c124-f2ab-419a-9c8b-75bc35536ac6",
   "metadata": {
    "tags": []
   },
   "outputs": [
    {
     "name": "stdout",
     "output_type": "stream",
     "text": [
      "7\n",
      "[None, 1, None, 1, None, 3, None]\n",
      "14\n",
      "[None, 1, None, 1, None, 3, None]\n",
      "15\n",
      "[None, 1, None, 3, None, 1, None, 6, None]\n",
      "13\n",
      "[None, 4, None, 1, None, 1, None]\n",
      "19\n",
      "[None, 1, None, 6, None, 5, None]\n",
      "12\n",
      "[None, 3, None, 2, None, 1, None]\n"
     ]
    }
   ],
   "source": [
    "import re\n",
    "\n",
    "\n",
    "test = \"\"\"???.### 1,1,3\n",
    ".??..??...?##. 1,1,3\n",
    "?#?#?#?#?#?#?#? 1,3,1,6\n",
    "????.#...#... 4,1,1\n",
    "????.######..#####. 1,6,5\n",
    "?###???????? 3,2,1\"\"\".split(\"\\n\")\n",
    "\n",
    "source = test\n",
    "\n",
    "#print(test)\n",
    "\n",
    "UNK = '?'\n",
    "DMG = '#'\n",
    "OPR = '.'\n",
    "\n",
    "def valid(springs, counts):\n",
    "    collapsed_string = re.sub(r'\\.+', '.', springs)\n",
    "    act_counts = [len(x) for x in collapsed_string.split('.') if not x == '']\n",
    "    if act_counts == counts:\n",
    "#        print(springs, counts)\n",
    "        return True\n",
    "    else:\n",
    "        return False\n",
    "    \n",
    "    \n",
    "def binary(num, length=32):\n",
    "    return format(num, '#0{}b'.format(length + 2))\n",
    "    \n",
    "from tqdm import tqdm\n",
    "valid_counts_arr = []\n",
    "for row in source:\n",
    "    springs, counts  = row.split()\n",
    "    counts = [int(x) for x in counts.split(\",\")]\n",
    "    \n",
    "    num_unk = springs.count(\"?\")\n",
    "    num_perms = 2**num_unk\n",
    "    \n",
    "    \n",
    "    # instead think about the lengths of the gaps.\n",
    "    # e.g. counts as 1, 1, 3 with a length of 7 has to have between 2 and 4 gaps with a total width of 4.\n",
    "    \n",
    "    total_length = len(springs)\n",
    "    \n",
    "    counts = sum([[None] + [x] for x in counts],[]) + [None]\n",
    "    \n",
    "    print(total_length)\n",
    "    print(counts)\n",
    "    \n",
    "    \n",
    "    \n",
    "    \n",
    "#     # print(num_unk)\n",
    "#     # print(num_perms)\n",
    "    \n",
    "#     valid_counts = 0\n",
    "#     for i in tqdm(range(0, num_perms)):\n",
    "#         new_springs = springs\n",
    "#         bin_i = list(reversed(bin(i)[2:]))\n",
    "# #        print(bin_i)\n",
    "#         for j in range(0, num_unk):\n",
    "# #            print(list(reversed(binary(i)))[j])\n",
    "# #            print(len(bin_i))\n",
    "#             if j < len(bin_i) and bin_i[j] == '1':\n",
    "#                 new_springs = new_springs.replace(\"?\",\"#\",1)\n",
    "#             else:\n",
    "#                 new_springs = new_springs.replace(\"?\",\".\",1)\n",
    "\n",
    "# #        print(springs, new_springs, i,)\n",
    "        \n",
    "    \n",
    "#         if valid(new_springs, counts):\n",
    "#             valid_counts += 1\n",
    "            \n",
    "#     valid_counts_arr.append(valid_counts)\n",
    "    \n",
    "# print(valid_counts_arr)\n",
    "# print(sum(valid_counts_arr))\n"
   ]
  }
 ],
 "metadata": {
  "kernelspec": {
   "display_name": "Python 3 (ipykernel)",
   "language": "python",
   "name": "python3"
  },
  "language_info": {
   "codemirror_mode": {
    "name": "ipython",
    "version": 3
   },
   "file_extension": ".py",
   "mimetype": "text/x-python",
   "name": "python",
   "nbconvert_exporter": "python",
   "pygments_lexer": "ipython3",
   "version": "3.11.5"
  }
 },
 "nbformat": 4,
 "nbformat_minor": 5
}
