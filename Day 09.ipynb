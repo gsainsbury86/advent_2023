{
 "cells": [
  {
   "cell_type": "code",
   "execution_count": 1,
   "id": "initial_id",
   "metadata": {
    "tags": [],
    "ExecuteTime": {
     "end_time": "2023-12-09T05:00:08.348081100Z",
     "start_time": "2023-12-09T05:00:07.318198200Z"
    }
   },
   "outputs": [
    {
     "name": "stdout",
     "output_type": "stream",
     "text": [
      "['0 7 18 31 55 131 378 1093 2953 7398 17321 38257 80352 161507 312219 582730 1053014 1845605 3139788 5182383 8283893', '15 27 57 121 247 494 997 2057 4308 9015 18584 37400 73185 139294 259011 474529 866940 1600988 3022302 5859292 11622118', '23 37 70 142 281 521 891 1405 2093 3158 5416 11299 26914 66014 157340 357768 775231 1607747 3208430 6191572 11602387', '10 26 43 61 80 100 121 143 166 190 215 241 268 296 325 355 386 418 451 485 520', '25 50 95 171 295 490 783 1201 1765 2482 3335 4271 5187 5914 6199 5685 3889 178 -6257 -16429 -31585']\n"
     ]
    }
   ],
   "source": [
    "import requests\n",
    "\n",
    "year = 2023\n",
    "day = 9\n",
    "\n",
    "url = f\"https://adventofcode.com/{year}/day/{day}/input\"\n",
    "\n",
    "with open(\"cookie.txt\", \"r\") as file:\n",
    "    session = file.read()\n",
    "\n",
    "headers = {\"cookie\": f\"session={session}\"}\n",
    "\n",
    "with open(f\"inputs/day_{str(day).zfill(2)}_input.txt\", \"wb\") as file:\n",
    "    file.write(requests.get(url, headers=headers).content)\n",
    "\n",
    "lines = [x.strip() for x in open(f\"inputs/day_{str(day).zfill(2)}_input.txt\", \"r\")]\n",
    "print(lines[:5])"
   ]
  },
  {
   "cell_type": "code",
   "execution_count": 43,
   "outputs": [
    {
     "name": "stdout",
     "output_type": "stream",
     "text": [
      "1684566095\n"
     ]
    }
   ],
   "source": [
    "test = \"\"\"0 3 6 9 12 15\n",
    "1 3 6 10 15 21\n",
    "10 13 16 21 30 45\"\"\".split(\"\\n\")\n",
    "\n",
    "source = test\n",
    "\n",
    "all_predictions = []\n",
    "\n",
    "for line in lines:\n",
    "    history = [int(x) for x in line.split()]\n",
    "    \n",
    "    diffs = [history[i] - history[i-1] for i in range(0,len(history))][1:]\n",
    "    list_of_diffs = [history, diffs]\n",
    "    \n",
    "    while any(diffs) != 0:\n",
    "        diffs = [diffs[i] - diffs[i-1] for i in range(0,len(diffs))][1:]\n",
    "        list_of_diffs.append(diffs)\n",
    "\n",
    "    list_of_diffs = list(reversed(list_of_diffs))\n",
    "    for i, diff in enumerate(list_of_diffs[:-1]):\n",
    "        list_of_diffs[i+1].append(diff[-1] + list_of_diffs[i+1][-1])\n",
    "        \n",
    "    all_predictions.append(list_of_diffs[-1][-1])\n",
    "    \n",
    "print(sum(all_predictions))\n"
   ],
   "metadata": {
    "collapsed": false,
    "ExecuteTime": {
     "end_time": "2023-12-09T05:34:26.875873900Z",
     "start_time": "2023-12-09T05:34:26.841800800Z"
    }
   },
   "id": "a8407962a8c5532d"
  },
  {
   "cell_type": "code",
   "execution_count": 45,
   "outputs": [
    {
     "name": "stdout",
     "output_type": "stream",
     "text": [
      "1136\n"
     ]
    }
   ],
   "source": [
    "test = \"\"\"0 3 6 9 12 15\n",
    "1 3 6 10 15 21\n",
    "10 13 16 21 30 45\"\"\".split(\"\\n\")\n",
    "\n",
    "source = test\n",
    "\n",
    "all_predictions = []\n",
    "\n",
    "for line in lines:\n",
    "    history = [int(x) for x in line.split()]\n",
    "    \n",
    "    \n",
    "    diffs = [history[i] - history[i-1] for i in range(0,len(history))][1:]\n",
    "    list_of_diffs = [history, diffs]\n",
    "    \n",
    "    while any(diffs) != 0:\n",
    "        diffs = [diffs[i] - diffs[i-1] for i in range(0,len(diffs))][1:]\n",
    "        list_of_diffs.append(diffs)\n",
    "\n",
    "    list_of_diffs = list(reversed(list_of_diffs))\n",
    "\n",
    "    for i, diff in enumerate(list_of_diffs[:-1]):\n",
    "        list_of_diffs[i+1] = [list_of_diffs[i+1][0] - list_of_diffs[i][0] ] + list_of_diffs[i+1] \n",
    "        \n",
    "    all_predictions.append(list_of_diffs[-1][0])\n",
    "    \n",
    "print(sum(all_predictions))\n"
   ],
   "metadata": {
    "collapsed": false,
    "ExecuteTime": {
     "end_time": "2023-12-09T05:34:51.846014500Z",
     "start_time": "2023-12-09T05:34:51.825472800Z"
    }
   },
   "id": "16f707d93f2fc66e"
  }
 ],
 "metadata": {
  "kernelspec": {
   "display_name": "Python 3 (ipykernel)",
   "language": "python",
   "name": "python3"
  },
  "language_info": {
   "codemirror_mode": {
    "name": "ipython",
    "version": 3
   },
   "file_extension": ".py",
   "mimetype": "text/x-python",
   "name": "python",
   "nbconvert_exporter": "python",
   "pygments_lexer": "ipython3",
   "version": "3.11.5"
  }
 },
 "nbformat": 4,
 "nbformat_minor": 5
}
