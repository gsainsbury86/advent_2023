{
 "cells": [
  {
   "cell_type": "code",
   "execution_count": 4,
   "id": "initial_id",
   "metadata": {
    "tags": [],
    "ExecuteTime": {
     "end_time": "2023-12-16T05:12:19.532319700Z",
     "start_time": "2023-12-16T05:12:18.634267500Z"
    }
   },
   "outputs": [
    {
     "name": "stdout",
     "output_type": "stream",
     "text": [
      "['\\\\..-.-..../.....|......\\\\......................\\\\............\\\\.................|..............|........./.|.....', '...-\\\\...|............|......../.|........-../................|.-..............-....\\\\.|..|.....................', '.|..........\\\\................\\\\\\\\|................../..........................\\\\\\\\../|...-...-.|..........\\\\......', '..................|\\\\....|.....-.......................-........\\\\.............................|/...............', '.......-...........-......................./........../.......-............................\\\\.....-.....-.../..']\n"
     ]
    }
   ],
   "source": [
    "import requests\n",
    "\n",
    "year = 2023\n",
    "day = 16\n",
    "\n",
    "url = f\"https://adventofcode.com/{year}/day/{day}/input\"\n",
    "\n",
    "with open(\"cookie.txt\", \"r\") as file:\n",
    "    session = file.read()\n",
    "\n",
    "headers = {\"cookie\": f\"session={session}\"}\n",
    "\n",
    "with open(f\"inputs/day_{str(day).zfill(2)}_input.txt\", \"wb\") as file:\n",
    "    file.write(requests.get(url, headers=headers).content)\n",
    "\n",
    "lines = [x.strip() for x in open(f\"inputs/day_{str(day).zfill(2)}_input.txt\", \"r\")]\n",
    "print(lines[:5])"
   ]
  },
  {
   "cell_type": "code",
   "execution_count": 13,
   "outputs": [
    {
     "name": "stdout",
     "output_type": "stream",
     "text": [
      "[[True, False, False, False, False, False, False, False, False, False], [False, False, False, False, False, False, False, False, False, False], [False, False, False, False, False, False, False, False, False, False], [False, False, False, False, False, False, False, False, False, False], [False, False, False, False, False, False, False, False, False, False], [False, False, False, False, False, False, False, False, False, False], [False, False, False, False, False, False, False, False, False, False], [False, False, False, False, False, False, False, False, False, False], [False, False, False, False, False, False, False, False, False, False], [False, False, False, False, False, False, False, False, False, False]]\n"
     ]
    }
   ],
   "source": [
    "test = r\"\"\".|...\\....\n",
    "|.-.\\.....\n",
    ".....|-...\n",
    "........|.\n",
    "..........\n",
    ".........\\\n",
    "..../.\\\\..\n",
    ".-.-/..|..\n",
    ".|....-|.\\\n",
    "..//.|....\"\"\".split(\"\\n\")\n",
    "\n",
    "source = test\n",
    "\n",
    "RIGHT = (0,1)\n",
    "LEFT = (0,-1)\n",
    "UP = (0,-1)\n",
    "DOWN = (0,1)\n",
    "\n",
    "energised = [[False for x in y] for y in source]\n",
    "locations = [(0,0)]\n",
    "directions = [RIGHT]\n",
    "\n",
    "for j in range(100):\n",
    "    for i, location in enumerate(locations):\n",
    "        direction = directions[i]\n",
    "        energised[location[0]][location[1]] = True\n",
    "        next = source[direction[0]][direction[1]]\n",
    "        if next == '.':\n",
    "            locations[i] = (location[0]+direction[0],\n",
    "                            location[1]+direction[1])\n",
    "            #directions[i] = directions[i]\n",
    "        if next == '\\\\':\n",
    "            if direction == RIGHT:\n",
    "                \n",
    "        \n",
    "print(energised)\n",
    "\n",
    "\n",
    "\n",
    "\n",
    "\n",
    "\n",
    "    "
   ],
   "metadata": {
    "collapsed": false,
    "ExecuteTime": {
     "end_time": "2023-12-16T05:21:37.518219700Z",
     "start_time": "2023-12-16T05:21:37.494255500Z"
    }
   },
   "id": "8b4119e2869b02b5"
  }
 ],
 "metadata": {
  "kernelspec": {
   "display_name": "Python 3 (ipykernel)",
   "language": "python",
   "name": "python3"
  },
  "language_info": {
   "codemirror_mode": {
    "name": "ipython",
    "version": 3
   },
   "file_extension": ".py",
   "mimetype": "text/x-python",
   "name": "python",
   "nbconvert_exporter": "python",
   "pygments_lexer": "ipython3",
   "version": "3.11.5"
  }
 },
 "nbformat": 4,
 "nbformat_minor": 5
}
