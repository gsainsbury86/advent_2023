{
 "cells": [
  {
   "cell_type": "code",
   "execution_count": 1,
   "id": "initial_id",
   "metadata": {
    "ExecuteTime": {
     "end_time": "2023-12-05T11:05:33.018163Z",
     "start_time": "2023-12-05T11:05:31.769574700Z"
    },
    "tags": []
   },
   "outputs": [
    {
     "name": "stdout",
     "output_type": "stream",
     "text": [
      "['LRRRLRRLRLLRLRRLRLRLLRRRLRLRRRLRRRLRLRLRRLRLRRRLRRLLRRLLLRRLRRLRRRLRLRRRLRRLRRRLRRRLRRLRLLRRRLRLRRLRLRLRRRLRRLLRRRLLRRLRLRRLRRRLLLRRRLLRLLRRLRRRLRLRLRRLLLRRRLLRRLLLRLRLRRLLRLLRRLLLRRLLRRRLRLRRRLRLLRRRLRRRLRLRLRRRLRLRRRLRRRLRRRLLRLRLRLRRLRLRRRLRLRLLRRLRRLRRLRRRLRRRLRLLRLLLRRLRLRRRR', '', 'HGK = (LRV, NBJ)', 'MCT = (PKH, PBF)', 'FJD = (PGR, CJB)']\n"
     ]
    }
   ],
   "source": [
    "import requests\n",
    "\n",
    "year = 2023\n",
    "day = 8\n",
    "\n",
    "url = f\"https://adventofcode.com/{year}/day/{day}/input\"\n",
    "\n",
    "with open(\"cookie.txt\", \"r\") as file:\n",
    "    session = file.read()\n",
    "\n",
    "headers = {\"cookie\": f\"session={session}\"}\n",
    "\n",
    "with open(f\"inputs/day_{str(day).zfill(2)}_input.txt\", \"wb\") as file:\n",
    "    file.write(requests.get(url, headers=headers).content)\n",
    "\n",
    "lines = [x.strip() for x in open(f\"inputs/day_{str(day).zfill(2)}_input.txt\", \"r\")]\n",
    "print(lines[:5])"
   ]
  },
  {
   "cell_type": "code",
   "execution_count": 21,
   "id": "f6cd7f56-d10d-46b5-b5bb-2f9a14f8539b",
   "metadata": {},
   "outputs": [
    {
     "name": "stdout",
     "output_type": "stream",
     "text": [
      "LRRRLRRLRLLRLRRLRLRLLRRRLRLRRRLRRRLRLRLRRLRLRRRLRRLLRRLLLRRLRRLRRRLRLRRRLRRLRRRLRRRLRRLRLLRRRLRLRRLRLRLRRRLRRLLRRRLLRRLRLRRLRRRLLLRRRLLRLLRRLRRRLRLRLRRLLLRRRLLRRLLLRLRLRRLLRLLRRLLLRRLLRRRLRLRRRLRLLRRRLRRRLRLRLRRRLRLRRRLRRRLRRRLLRLRLRLRRLRLRRRLRLRLLRRLRRLRRLRRRLRRRLRLLRLLLRRLRLRRRR\n",
      "20513\n"
     ]
    }
   ],
   "source": [
    "test = \"\"\"RL\n",
    "\n",
    "AAA = (BBB, CCC)\n",
    "BBB = (DDD, EEE)\n",
    "CCC = (ZZZ, GGG)\n",
    "DDD = (DDD, DDD)\n",
    "EEE = (EEE, EEE)\n",
    "GGG = (GGG, GGG)\n",
    "ZZZ = (ZZZ, ZZZ)\"\"\".split(\n",
    "    \"\\n\"\n",
    ")\n",
    "\n",
    "source = lines\n",
    "\n",
    "directions = source[0]\n",
    "\n",
    "print(directions)\n",
    "\n",
    "nodes = source[2:]\n",
    "\n",
    "map_ = {}\n",
    "\n",
    "for node in nodes:\n",
    "    map_[node[0:3]] = {\"L\": node[7:10], \"R\": node[12:15]}\n",
    "\n",
    "\n",
    "# print(map_)\n",
    "location = \"AAA\"\n",
    "d_i = 0\n",
    "while True:\n",
    "    #    print(location)\n",
    "    #    print(d_i)\n",
    "    #    print(map_[location][directions[d_i%2]])\n",
    "    location = map_[location][directions[d_i % len(directions)]]\n",
    "    d_i += 1\n",
    "    if location == \"ZZZ\":\n",
    "        break\n",
    "#    print(location)\n",
    "\n",
    "print(d_i)"
   ]
  },
  {
   "cell_type": "code",
   "execution_count": 35,
   "id": "e0d8c7b2-31f4-462c-a3ef-b39b53a0f04a",
   "metadata": {
    "tags": []
   },
   "outputs": [
    {
     "name": "stdout",
     "output_type": "stream",
     "text": [
      "LRRRLRRLRLLRLRRLRLRLLRRRLRLRRRLRRRLRLRLRRLRLRRRLRRLLRRLLLRRLRRLRRRLRLRRRLRRLRRRLRRRLRRLRLLRRRLRLRRLRLRLRRRLRRLLRRRLLRRLRLRRLRRRLLLRRRLLRLLRRLRRRLRLRLRRLLLRRRLLRRLLLRLRLRRLLRLLRRLLLRRLLRRRLRLRRRLRLLRRRLRRRLRLRLRRRLRLRRRLRRRLRRRLLRLRLRLRRLRLRRRLRLRLLRRLRRLRRLRRRLRRRLRLLRLLLRRLRLRRRR\n",
      "['MSA', 'AAA', 'PKA', 'NBA', 'RHA', 'CDA']\n",
      "[14893, 20513, 22199, 19951, 17141, 12083]\n",
      "15995167053923\n"
     ]
    }
   ],
   "source": [
    "import math\n",
    "\n",
    "test = \"\"\"LR\n",
    "\n",
    "11A = (11B, XXX)\n",
    "11B = (XXX, 11Z)\n",
    "11Z = (11B, XXX)\n",
    "22A = (22B, XXX)\n",
    "22B = (22C, 22C)\n",
    "22C = (22Z, 22Z)\n",
    "22Z = (22B, 22B)\n",
    "XXX = (XXX, XXX)\"\"\".split(\n",
    "    \"\\n\"\n",
    ")\n",
    "\n",
    "source = lines\n",
    "\n",
    "directions = source[0]\n",
    "\n",
    "print(directions)\n",
    "\n",
    "nodes = source[2:]\n",
    "\n",
    "map_ = {}\n",
    "\n",
    "for node in nodes:\n",
    "    map_[node[0:3]] = {\"L\": node[7:10], \"R\": node[12:15]}\n",
    "\n",
    "# print(map_)\n",
    "locations = [x for x in map_.keys() if x[2] == \"A\"]\n",
    "print(locations)\n",
    "d_i = 0\n",
    "\n",
    "# lcm\n",
    "distances = []\n",
    "for location in locations:\n",
    "    while True:\n",
    "        location = map_[location][directions[d_i % len(directions)]]\n",
    "        d_i += 1\n",
    "        if location[2] == \"Z\":\n",
    "            distances.append(d_i)\n",
    "            break\n",
    "    d_i = 0\n",
    "\n",
    "print(distances)\n",
    "# online calculator for LCM: 15995167053923\n",
    "\n",
    "\n",
    "def lcm(x, y):\n",
    "    from math import gcd  # or can import gcd from `math` in Python 3\n",
    "\n",
    "    return x * y // gcd(x, y)\n",
    "\n",
    "\n",
    "lcm_run = 1\n",
    "for i in distances:\n",
    "    lcm_run = lcm(lcm_run, i)\n",
    "\n",
    "print(lcm_run)"
   ]
  }
 ],
 "metadata": {
  "kernelspec": {
   "display_name": "Python 3 (ipykernel)",
   "language": "python",
   "name": "python3"
  },
  "language_info": {
   "codemirror_mode": {
    "name": "ipython",
    "version": 3
   },
   "file_extension": ".py",
   "mimetype": "text/x-python",
   "name": "python",
   "nbconvert_exporter": "python",
   "pygments_lexer": "ipython3",
   "version": "3.11.5"
  }
 },
 "nbformat": 4,
 "nbformat_minor": 5
}
